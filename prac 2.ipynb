{
 "cells": [
  {
   "cell_type": "markdown",
   "id": "4fd9866f-b301-4e0b-9528-074d155edb28",
   "metadata": {},
   "source": [
    "Q1. Create a list in python using the followings: 2,3,4,5,6,7 with variable ‘a’\n",
    "Add ‘mango to the above list\n",
    "Also add banana, grapes & orange in the list\n",
    "insert apple in the 5th position of a variable ‘a’\n",
    "Remove last item from the list"
   ]
  },
  {
   "cell_type": "code",
   "execution_count": 4,
   "id": "1942743f-ed8d-4616-ab2d-3564a9b332a2",
   "metadata": {},
   "outputs": [
    {
     "name": "stdout",
     "output_type": "stream",
     "text": [
      "[2, 3, 4, 5, 'apple', 6, 7, 'mango', 'banana', 'grapes']\n"
     ]
    }
   ],
   "source": [
    "a = [2,3,4,5,6,7]\n",
    "a.append('mango')\n",
    "a.extend(['banana','grapes','orange'])\n",
    "a.insert(4,\"apple\")\n",
    "a.pop()\n",
    "print(a)\n"
   ]
  },
  {
   "cell_type": "markdown",
   "id": "8fd1cc04-8905-4287-a501-137b6c00becc",
   "metadata": {},
   "source": [
    "Q2.\n",
    "L = [1,2,3,4,5,6,7]\n",
    "Using the above list slice from 1:4"
   ]
  },
  {
   "cell_type": "code",
   "execution_count": 5,
   "id": "8af6eaa0-da81-4a54-aa8e-2f3663c625a1",
   "metadata": {},
   "outputs": [
    {
     "data": {
      "text/plain": [
       "[2, 3, 4]"
      ]
     },
     "execution_count": 5,
     "metadata": {},
     "output_type": "execute_result"
    }
   ],
   "source": [
    "L = [1,2,3,4,5,6,7]\n",
    "L[1:4]"
   ]
  },
  {
   "cell_type": "markdown",
   "id": "cad3eceb-c3d2-49da-9e20-1f09be387cd5",
   "metadata": {},
   "source": [
    "Q3. Reverse the order of given string L = [4,5,6,8,3] Without using reverse() function."
   ]
  },
  {
   "cell_type": "code",
   "execution_count": 16,
   "id": "766c846f-2a95-4945-a40b-d03fd4b93c4b",
   "metadata": {},
   "outputs": [
    {
     "name": "stdout",
     "output_type": "stream",
     "text": [
      "[3, 8, 6, 5, 4]\n"
     ]
    }
   ],
   "source": [
    "L = [4,5,6,8,3]\n",
    "L.reverse()\n",
    "print(L)"
   ]
  },
  {
   "cell_type": "markdown",
   "id": "420e2886-1a91-446c-ac15-ebf7421c924e",
   "metadata": {},
   "source": [
    "Q4. Use list comprehension to square the given list L=[2,4,7,3,6,8]"
   ]
  },
  {
   "cell_type": "code",
   "execution_count": 19,
   "id": "45fcd8b7-7d6b-42a1-b544-f22fec778cde",
   "metadata": {},
   "outputs": [
    {
     "data": {
      "text/plain": [
       "[4, 16, 49, 9, 36, 64]"
      ]
     },
     "execution_count": 19,
     "metadata": {},
     "output_type": "execute_result"
    }
   ],
   "source": [
    "L = [2,4,7,3,6,8]\n",
    "[i**2 for i in L ]"
   ]
  },
  {
   "cell_type": "markdown",
   "id": "bfe64794-bcce-486c-b235-c95d6b6e821b",
   "metadata": {},
   "source": [
    "Q5. Create a function that takes in a tuple of integers and returns the sum of the integers. Test the\n",
    "function with a tuple of your choice."
   ]
  },
  {
   "cell_type": "code",
   "execution_count": 20,
   "id": "a2dd4870-9d40-4c64-b447-ad8402843aeb",
   "metadata": {},
   "outputs": [],
   "source": [
    "def sum_tuple(t):\n",
    "    \n",
    "    return sum(t)\n"
   ]
  },
  {
   "cell_type": "code",
   "execution_count": 21,
   "id": "ec10060a-058b-41d2-a92a-3841d436c047",
   "metadata": {},
   "outputs": [
    {
     "name": "stdout",
     "output_type": "stream",
     "text": [
      "23\n"
     ]
    }
   ],
   "source": [
    "m = (2,5,6,7,3)\n",
    "print(sum_tuple(m))\n"
   ]
  },
  {
   "cell_type": "markdown",
   "id": "8d8903c4-7cb1-4e57-a354-b920f1da6168",
   "metadata": {},
   "source": [
    "Q6. Create two sets of your favourite fruits, and use the union() method to combine them into a single set.\n",
    "Print the resulting set to the console."
   ]
  },
  {
   "cell_type": "code",
   "execution_count": 28,
   "id": "b62250ce-7cc0-4d39-8565-3331e9d24f78",
   "metadata": {},
   "outputs": [
    {
     "data": {
      "text/plain": [
       "{'apple', 'banana', 'cherry', 'guava', 'orange', 'papaya'}"
      ]
     },
     "execution_count": 28,
     "metadata": {},
     "output_type": "execute_result"
    }
   ],
   "source": [
    "a = {\"apple\",\"banana\", \"guava\"}\n",
    "b = {\"orange\",\"papaya\", \"cherry\"}\n",
    "c = a.union(b)\n",
    "c"
   ]
  },
  {
   "cell_type": "markdown",
   "id": "424f20d8-ba5c-46fb-b971-0d4538d938b0",
   "metadata": {},
   "source": [
    "Q7. Create a set of random words, and use the add() method to add a new word to the set. Print the\n",
    "resulting set to the console."
   ]
  },
  {
   "cell_type": "code",
   "execution_count": 38,
   "id": "ffd180e3-e0ad-4f9d-999a-8269fec01323",
   "metadata": {},
   "outputs": [
    {
     "name": "stdout",
     "output_type": "stream",
     "text": [
      "{'rohit', 'lavkush', 'pankaj', 'harsh', 'anurag', 'ananya'}\n"
     ]
    }
   ],
   "source": [
    "set1 = {'ananya', 'rohit','lavkush', 'anurag','harsh'}\n",
    "set1.add('pankaj')\n",
    "\n",
    "print(set1)"
   ]
  },
  {
   "cell_type": "markdown",
   "id": "e9c6d475-96bc-49dd-bdad-2b96a87c0e8a",
   "metadata": {},
   "source": [
    "Q8. Create a set of your favourite animals, and use the remove() method to remove one animal from the\n",
    "set. Print the resulting set to the console."
   ]
  },
  {
   "cell_type": "code",
   "execution_count": 39,
   "id": "c6b4ba25-2623-478c-81be-8963dc7f6946",
   "metadata": {},
   "outputs": [
    {
     "data": {
      "text/plain": [
       "{'dog', 'horse', 'puppy'}"
      ]
     },
     "execution_count": 39,
     "metadata": {},
     "output_type": "execute_result"
    }
   ],
   "source": [
    "set1 = {\"cow\", \"dog\",\"puppy\",\"horse\"}\n",
    "set1.remove(\"cow\")\n",
    "set1"
   ]
  },
  {
   "cell_type": "markdown",
   "id": "9b29f78f-9cae-429a-a116-d2a439b4cfdf",
   "metadata": {},
   "source": [
    "Q9. favorite_books = {\"1984\", \"To Kill a Mockingbird\", \"Pride and Prejudice\"}\n",
    "favorite_movies = [\"The Shawshank Redemption\", \"The Godfather\", \"The Dark Knight\"]\n",
    "Use the zip() function to combine the book set and movie list into a list of tuples representing book/\n",
    "movie pairs. Print the resulting list."
   ]
  },
  {
   "cell_type": "code",
   "execution_count": 41,
   "id": "f30be563-cadf-41f2-8011-21fa81000dff",
   "metadata": {},
   "outputs": [
    {
     "data": {
      "text/plain": [
       "[('To Kill a Mockingbird', 'The Shawshank Redemption'),\n",
       " ('Pride and Prejudice', 'The Godfather'),\n",
       " ('1984', 'The Dark Knight')]"
      ]
     },
     "execution_count": 41,
     "metadata": {},
     "output_type": "execute_result"
    }
   ],
   "source": [
    "favorite_books = {\"1984\", \"To Kill a Mockingbird\", \"Pride and Prejudice\"}\n",
    "favorite_movies = [\"The Shawshank Redemption\", \"The Godfather\", \"The Dark Knight\"]\n",
    "movie_pairs =  list(zip(favorite_books,favorite_movies))\n",
    "movie_pairs"
   ]
  },
  {
   "cell_type": "markdown",
   "id": "15cbb1b3-cfc4-4f6f-b6e5-796dffaa40b7",
   "metadata": {},
   "source": [
    "Q10. Write a Python program to find the difference between consecutive numbers in a list.\n"
   ]
  },
  {
   "cell_type": "code",
   "execution_count": 49,
   "id": "82c3c83a-2f68-4137-b7b8-7da1541af2f1",
   "metadata": {},
   "outputs": [],
   "source": [
    "def consecutive_difference(lst):\n",
    "    # Create an empty list to store the differences\n",
    "    diff_lst = []\n",
    "\n",
    "    # Iterate through the indices of the input list up to the second-to-last element\n",
    "    for i in range(len(lst)-1):\n",
    "        # Calculate the absolute difference between the current element and the next element\n",
    "        diff_lst.append(abs(lst[i] - lst[i+1]))\n",
    "\n",
    "    # Return the list of differences\n",
    "    return diff_lst\n"
   ]
  },
  {
   "cell_type": "code",
   "execution_count": 50,
   "id": "93319540-5fba-4824-af6d-6ba5b8761901",
   "metadata": {},
   "outputs": [
    {
     "name": "stdout",
     "output_type": "stream",
     "text": [
      "[2, 3, 6, 4]\n"
     ]
    }
   ],
   "source": [
    "lst = [3,5,2,8,1]\n",
    "value = consecutive_difference(lst)\n",
    "print(value)"
   ]
  },
  {
   "cell_type": "code",
   "execution_count": null,
   "id": "45e1a042-3723-4770-b31d-f5d2d45a41cc",
   "metadata": {},
   "outputs": [],
   "source": []
  }
 ],
 "metadata": {
  "kernelspec": {
   "display_name": "Python 3 (ipykernel)",
   "language": "python",
   "name": "python3"
  },
  "language_info": {
   "codemirror_mode": {
    "name": "ipython",
    "version": 3
   },
   "file_extension": ".py",
   "mimetype": "text/x-python",
   "name": "python",
   "nbconvert_exporter": "python",
   "pygments_lexer": "ipython3",
   "version": "3.10.8"
  }
 },
 "nbformat": 4,
 "nbformat_minor": 5
}
