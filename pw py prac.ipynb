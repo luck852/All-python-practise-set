{
 "cells": [
  {
   "cell_type": "markdown",
   "id": "b5aebe78-4ea0-4d57-a22f-d9d84bd25cb6",
   "metadata": {},
   "source": [
    "Q1. Write a Python program that defines a function called \"add_numbers\" that takes two arguments (i.e.,\n",
    "numbers) and returns their sum. Within the function, add the two numbers together and return the result\n",
    "using the return statement. Call the function with the values 5 and 6, and print out the returned result.\n",
    "This will result in the addition of 5 and 6, with the output of the program being the sum of these two\n",
    "numbers."
   ]
  },
  {
   "cell_type": "code",
   "execution_count": 9,
   "id": "6edf3d16-ae7c-4606-a986-f293d7d1475e",
   "metadata": {},
   "outputs": [],
   "source": [
    "def add_number( num1, num2):\n",
    "    num3 = num1 + num2\n",
    "    \n",
    "    return num3\n"
   ]
  },
  {
   "cell_type": "code",
   "execution_count": 10,
   "id": "fc893aaf-1834-4325-946d-f4a25ed94065",
   "metadata": {},
   "outputs": [
    {
     "name": "stdout",
     "output_type": "stream",
     "text": [
      "This will result in the addition of 5 and 6  : 11\n"
     ]
    }
   ],
   "source": [
    "num1 , num2 = 5 , 6\n",
    "ans =  add_number(num1 , num2)\n",
    "print(\"This will result in the addition of 5 and 6  :\" ,ans)"
   ]
  },
  {
   "cell_type": "markdown",
   "id": "371f8e46-3e71-4875-af51-61e01adda29c",
   "metadata": {},
   "source": [
    "Q2. Write a Python program that calculates the square root of a given number using a built-in function.\n",
    "Specifically, the program should take an integer or float input from the user, calculate its square root\n",
    "using the 'sqrt()' function from the 'math' module, and print out the result to the user. As an example,\n",
    "calculate the square root of the number 625 using this program, which should output the value of 25."
   ]
  },
  {
   "cell_type": "code",
   "execution_count": 11,
   "id": "d3d47b4a-ba9d-487d-b8b5-f36c8bfe4103",
   "metadata": {},
   "outputs": [],
   "source": [
    "import math"
   ]
  },
  {
   "cell_type": "code",
   "execution_count": 13,
   "id": "468ea3de-50a8-466f-8016-9b17db4b529f",
   "metadata": {},
   "outputs": [
    {
     "name": "stdout",
     "output_type": "stream",
     "text": [
      "Square root of the number 625 is : 25.0\n"
     ]
    }
   ],
   "source": [
    "num = 625\n",
    "square_root = math.sqrt(num)\n",
    "print(\"Square root of the number 625 is :\", square_root)"
   ]
  },
  {
   "cell_type": "markdown",
   "id": "c2498cc9-897b-4f6d-85e2-379f9978c9bd",
   "metadata": {},
   "source": [
    "Q3.Write a program that prints all prime numbers between 0 to 50."
   ]
  },
  {
   "cell_type": "code",
   "execution_count": 6,
   "id": "542a75cf-4967-4999-bfec-da20fbf90584",
   "metadata": {},
   "outputs": [
    {
     "name": "stdout",
     "output_type": "stream",
     "text": [
      "2\n",
      "3\n",
      "5\n",
      "7\n",
      "9\n",
      "11\n",
      "13\n",
      "15\n",
      "17\n",
      "19\n",
      "21\n",
      "23\n",
      "25\n",
      "27\n",
      "29\n",
      "31\n",
      "33\n",
      "35\n",
      "37\n",
      "39\n",
      "41\n",
      "43\n",
      "45\n",
      "47\n",
      "49\n"
     ]
    }
   ],
   "source": [
    "for number in range(2,51):\n",
    "    for i in range(2,number):\n",
    "        if number%2 ==0:\n",
    "            break\n",
    "    else:\n",
    "        print(number)"
   ]
  },
  {
   "cell_type": "markdown",
   "id": "ef94570c-28c8-4099-b0df-9cbdb3452b41",
   "metadata": {},
   "source": [
    "other by function method"
   ]
  },
  {
   "cell_type": "code",
   "execution_count": 11,
   "id": "d7babdd5-bce3-4a35-8ef9-a354a022d10f",
   "metadata": {},
   "outputs": [
    {
     "name": "stdin",
     "output_type": "stream",
     "text": [
      "enter the lower limit here 2\n",
      "enter the upper limit here 50\n"
     ]
    },
    {
     "name": "stdout",
     "output_type": "stream",
     "text": [
      "2\n",
      "3\n",
      "5\n",
      "7\n",
      "11\n",
      "13\n",
      "17\n",
      "19\n",
      "23\n",
      "29\n",
      "31\n",
      "37\n",
      "41\n",
      "43\n",
      "47\n"
     ]
    }
   ],
   "source": [
    "lower = int(input(\"enter the lower limit here\"))\n",
    "upper = int(input(\"enter the upper limit here\"))\n",
    "\n",
    "for num in range(lower, upper+1):\n",
    "    if num > 1:\n",
    "        for i in range(2,num):\n",
    "            if num%i==0:\n",
    "                break\n",
    "        else:\n",
    "            print(num)"
   ]
  },
  {
   "cell_type": "markdown",
   "id": "f030ddbb-c3fc-4caf-9502-e7f9c274fead",
   "metadata": {},
   "source": [
    "ques : all the even number 0 to 50"
   ]
  },
  {
   "cell_type": "code",
   "execution_count": 17,
   "id": "efcf5e40-e52e-4fa5-8547-03101d43c16a",
   "metadata": {},
   "outputs": [
    {
     "name": "stdout",
     "output_type": "stream",
     "text": [
      "2\n",
      "4\n",
      "6\n",
      "8\n",
      "10\n",
      "12\n",
      "14\n",
      "16\n",
      "18\n",
      "20\n",
      "22\n",
      "24\n",
      "26\n",
      "28\n",
      "30\n",
      "32\n",
      "34\n",
      "36\n",
      "38\n",
      "40\n",
      "42\n",
      "44\n",
      "46\n",
      "48\n",
      "50\n"
     ]
    }
   ],
   "source": [
    "for i in range(2,51):\n",
    "    if i%2==0:\n",
    "        print(i)"
   ]
  },
  {
   "cell_type": "markdown",
   "id": "9cfc85a7-33b8-46d1-a800-6663ab913b50",
   "metadata": {},
   "source": [
    "Q4.How can we swap the values of three variables (let's say a, b, and c) without using a fourth variable?\n",
    "For example, if we have a=5, b=8, and c=9, how can we obtain a=9, b=5, and c=8? The challenge is to\n",
    "perform this operation without using an additional variable to store any of the values during the\n",
    "swapping process."
   ]
  },
  {
   "cell_type": "code",
   "execution_count": 18,
   "id": "166bdaa6-009f-4ddf-a42e-88895f21c28d",
   "metadata": {},
   "outputs": [
    {
     "name": "stdout",
     "output_type": "stream",
     "text": [
      "a 9\n",
      "b 5\n",
      "c 8\n"
     ]
    }
   ],
   "source": [
    "a=5\n",
    "b=8\n",
    "c=9\n",
    "a,b,c = c,a,b\n",
    "\n",
    "print(\"a\" ,a)\n",
    "print(\"b\", b)\n",
    "print(\"c\",c)"
   ]
  },
  {
   "cell_type": "markdown",
   "id": "86386e00-ed55-44f9-997a-d3c49d5c480a",
   "metadata": {},
   "source": [
    "Q5. Can you write a program that determines the nature of a given number (in this case, 87) as being\n",
    "positive, negative, or zero? The program should be designed to take the number as input and perform the\n",
    "necessary calculations to determine if the number is positive (i.e., greater than zero), negative (i.e., less\n",
    "than zero), or zero (i.e., equal to zero). The output of the program should indicate which of these three\n",
    "categories the given number falls into."
   ]
  },
  {
   "cell_type": "code",
   "execution_count": 28,
   "id": "2f1f1e42-f20b-40aa-b008-5e77f7e34f66",
   "metadata": {},
   "outputs": [
    {
     "name": "stdout",
     "output_type": "stream",
     "text": [
      "Number is positive \n"
     ]
    }
   ],
   "source": [
    "num = 87\n",
    "if num>0:\n",
    "    print(\"Number is positive \")\n",
    "elif num<0:\n",
    "    print(\"Number is negative \")\n",
    "else:\n",
    "    print(\"Number is zero\")\n",
    "    "
   ]
  },
  {
   "cell_type": "markdown",
   "id": "71d0ec11-c407-4f7a-8246-696eddf3e1e8",
   "metadata": {},
   "source": [
    "Q6. How can you create a program that determines whether a given number (in this case, 98) is even or\n",
    "odd? The program should be designed to take the number as input and perform the necessary\n",
    "calculations to determine whether it is divisible by two. If the number is divisible by two without leaving a\n",
    "remainder, it is an even number, and if there is a remainder, it is an odd number. The output of the\n",
    "program should indicate whether the given number is even or odd."
   ]
  },
  {
   "cell_type": "code",
   "execution_count": 31,
   "id": "a16bcaa6-a131-410a-9a97-256844627202",
   "metadata": {},
   "outputs": [
    {
     "name": "stdout",
     "output_type": "stream",
     "text": [
      "even number\n"
     ]
    }
   ],
   "source": [
    "num = 98\n",
    "if num%2==0:\n",
    "    print(\"even number\")\n",
    "else:\n",
    "    print(\"odd number\")"
   ]
  },
  {
   "cell_type": "markdown",
   "id": "1e8e7444-a942-466b-bd6b-c9b1436f3584",
   "metadata": {},
   "source": [
    "Q7.Write a program for sum of digits.the digits are 76543 and the output should be 25."
   ]
  },
  {
   "cell_type": "code",
   "execution_count": 3,
   "id": "91e9778b-f403-4b07-82d3-3a41566101b1",
   "metadata": {},
   "outputs": [
    {
     "name": "stdout",
     "output_type": "stream",
     "text": [
      "the digits 76543 sum is : 25\n"
     ]
    }
   ],
   "source": [
    "digit = 76543\n",
    "sum_digit = 0\n",
    "\n",
    "while digit > 0:\n",
    "    sum_digit += digit % 10\n",
    "    digit//=10\n",
    "print(\"the digits 76543 sum is :\", 25)"
   ]
  },
  {
   "cell_type": "code",
   "execution_count": 4,
   "id": "c81d6fc5-3c8a-412b-a431-e9c74dc63775",
   "metadata": {},
   "outputs": [],
   "source": [
    "# for loop :\n",
    "\n",
    "def sum_digit(number):\n",
    "    \n",
    "    sum_digit= 0\n",
    "    \n",
    "    for digit in str(number):\n",
    "        sum_digit += int(digit)\n",
    "        \n",
    "    return sum_digit"
   ]
  },
  {
   "cell_type": "code",
   "execution_count": 5,
   "id": "8a1862f2-c1a6-40d1-a3cf-133236ac239d",
   "metadata": {},
   "outputs": [
    {
     "name": "stdout",
     "output_type": "stream",
     "text": [
      " 76543 sum is: 25\n"
     ]
    }
   ],
   "source": [
    "number = 76543\n",
    "results = sum_digit(number)\n",
    "print(\" 76543 sum is:\" , results)"
   ]
  },
  {
   "cell_type": "markdown",
   "id": "ace81032-7cb3-4422-9730-efc073d5f2f6",
   "metadata": {},
   "source": [
    "Q8.Write a program for reversing the given number 5436 and the output should be 6345."
   ]
  },
  {
   "cell_type": "code",
   "execution_count": 12,
   "id": "1e15dad3-00fb-401d-a041-7d9eb8658601",
   "metadata": {},
   "outputs": [],
   "source": [
    "def reverse_num(number):\n",
    "\n",
    "    reverse_string = str(number)[::-1]\n",
    "    \n",
    "    reversed_number = int(reverse_string)\n",
    "    \n",
    "    return reversed_number\n",
    "        "
   ]
  },
  {
   "cell_type": "code",
   "execution_count": 13,
   "id": "7cdbfa00-254d-4a1b-828b-fea5cecbdf64",
   "metadata": {},
   "outputs": [
    {
     "name": "stdout",
     "output_type": "stream",
     "text": [
      "5436 is reversed in : 6345\n"
     ]
    }
   ],
   "source": [
    "number = 5436\n",
    "results = reverse_num(number)\n",
    "print(\"5436 is reversed in :\", results)"
   ]
  },
  {
   "cell_type": "markdown",
   "id": "82bc9daf-9ad6-46d8-bc16-a3d614768996",
   "metadata": {},
   "source": [
    "Q9.Write a program to check if a given number 371 is an Armstrong number?"
   ]
  },
  {
   "cell_type": "code",
   "execution_count": 29,
   "id": "7b76f39b-bb68-4a80-9b9e-313271dd7fed",
   "metadata": {},
   "outputs": [],
   "source": [
    "def is_armstrng(number):\n",
    "    \n",
    "    num_str =str(num)\n",
    "    num_len=  len(num_str)\n",
    "\n",
    "    arm_strng =  sum([int(digit)**num_len for digit in num_str])\n",
    "    if arm_strng == number:\n",
    "        return True\n",
    "    else:\n",
    "         False"
   ]
  },
  {
   "cell_type": "code",
   "execution_count": 30,
   "id": "58ad1157-3c43-4065-aca6-29b47e187439",
   "metadata": {},
   "outputs": [
    {
     "name": "stdout",
     "output_type": "stream",
     "text": [
      "371 is an armstrong\n"
     ]
    }
   ],
   "source": [
    "number = 371\n",
    "results = is_armstrng(number)\n",
    "print(\"371 is an armstrong\")"
   ]
  },
  {
   "cell_type": "markdown",
   "id": "90da2c3d-140b-4d34-ad53-e03a1e4572b4",
   "metadata": {},
   "source": [
    "Q10.Write a program the given year is 1996, a leap year."
   ]
  },
  {
   "cell_type": "code",
   "execution_count": 31,
   "id": "ffc006e2-4264-40f8-885a-f433260dd1f9",
   "metadata": {},
   "outputs": [
    {
     "name": "stdout",
     "output_type": "stream",
     "text": [
      "leap year\n"
     ]
    }
   ],
   "source": [
    "year = 1996\n",
    "if year%4==0:\n",
    "    print(\"leap year\")\n",
    "else:\n",
    "    print(\"Not a Leap year\")"
   ]
  },
  {
   "cell_type": "code",
   "execution_count": 36,
   "id": "e547d232-d96d-4f7f-a4c9-0a63d954dbc9",
   "metadata": {},
   "outputs": [],
   "source": [
    "def leap_year(year):\n",
    "    if year% 4 == 0:\n",
    "        return True\n",
    "    else:\n",
    "        return False"
   ]
  },
  {
   "cell_type": "code",
   "execution_count": 41,
   "id": "fe99f1af-9917-4a6a-aac6-02c2b3869fc0",
   "metadata": {},
   "outputs": [
    {
     "name": "stdout",
     "output_type": "stream",
     "text": [
      "True\n"
     ]
    }
   ],
   "source": [
    "year = 100\n",
    "res = leap_year(year)\n",
    "print( res)"
   ]
  },
  {
   "cell_type": "code",
   "execution_count": null,
   "id": "95912127-5128-4056-bf52-d1c3a2e9e264",
   "metadata": {},
   "outputs": [],
   "source": []
  }
 ],
 "metadata": {
  "kernelspec": {
   "display_name": "Python 3 (ipykernel)",
   "language": "python",
   "name": "python3"
  },
  "language_info": {
   "codemirror_mode": {
    "name": "ipython",
    "version": 3
   },
   "file_extension": ".py",
   "mimetype": "text/x-python",
   "name": "python",
   "nbconvert_exporter": "python",
   "pygments_lexer": "ipython3",
   "version": "3.10.8"
  }
 },
 "nbformat": 4,
 "nbformat_minor": 5
}
